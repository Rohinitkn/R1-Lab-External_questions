{
 "cells": [
  {
   "cell_type": "markdown",
   "metadata": {},
   "source": [
    "# External Lab"
   ]
  },
  {
   "cell_type": "markdown",
   "metadata": {},
   "source": [
    "# Part-1"
   ]
  },
  {
   "cell_type": "markdown",
   "metadata": {},
   "source": [
    "## About the dataset\n",
    "\n",
    "This is perhaps the best known database to be found in the pattern recognition literature. The data set contains 3 classes of 50 instances each, where each class refers to a type of iris plant.  One class is linearly separable from the other 2; the latter are NOT linearly separable from each other.\n",
    "\n",
    "Attribute Information:\n",
    "   1. sepal length in cm\n",
    "   2. sepal width in cm\n",
    "   3. petal length in cm\n",
    "   4. petal width in cm\n",
    "   5. class: \n",
    "      -- Iris Setosa\n",
    "      -- Iris Versicolour\n",
    "      -- Iris Virginica"
   ]
  },
  {
   "cell_type": "markdown",
   "metadata": {},
   "source": [
    "### Read the dataset and store it in the dataframe named Iris"
   ]
  },
  {
   "cell_type": "code",
   "execution_count": 40,
   "metadata": {},
   "outputs": [
    {
     "name": "stdout",
     "output_type": "stream",
     "text": [
      "     Sepal Length (in cm)  Sepal Width in (cm)  Petal length (in cm)  \\\n",
      "0                     5.1                  3.5                   1.4   \n",
      "1                     4.9                  3.0                   1.4   \n",
      "2                     4.7                  3.2                   1.3   \n",
      "3                     4.6                  3.1                   1.5   \n",
      "4                     5.0                  3.6                   1.4   \n",
      "5                     5.4                  3.9                   1.7   \n",
      "6                     4.6                  3.4                   1.4   \n",
      "7                     5.0                  3.4                   1.5   \n",
      "8                     4.4                  2.9                   1.4   \n",
      "9                     4.9                  3.1                   1.5   \n",
      "10                    5.4                  3.7                   1.5   \n",
      "11                    4.8                  3.4                   1.6   \n",
      "12                    4.8                  3.0                   1.4   \n",
      "13                    4.3                  3.0                   1.1   \n",
      "14                    5.8                  4.0                   1.2   \n",
      "15                    5.7                  4.4                   1.5   \n",
      "16                    5.4                  3.9                   1.3   \n",
      "17                    5.1                  3.5                   1.4   \n",
      "18                    5.7                  3.8                   1.7   \n",
      "19                    5.1                  3.8                   1.5   \n",
      "20                    5.4                  3.4                   1.7   \n",
      "21                    5.1                  3.7                   1.5   \n",
      "22                    4.6                  3.6                   1.0   \n",
      "23                    5.1                  3.3                   1.7   \n",
      "24                    4.8                  3.4                   1.9   \n",
      "25                    5.0                  3.0                   1.6   \n",
      "26                    5.0                  3.4                   1.6   \n",
      "27                    5.2                  3.5                   1.5   \n",
      "28                    5.2                  3.4                   1.4   \n",
      "29                    4.7                  3.2                   1.6   \n",
      "..                    ...                  ...                   ...   \n",
      "120                   6.9                  3.2                   5.7   \n",
      "121                   5.6                  2.8                   4.9   \n",
      "122                   7.7                  2.8                   6.7   \n",
      "123                   6.3                  2.7                   4.9   \n",
      "124                   6.7                  3.3                   5.7   \n",
      "125                   7.2                  3.2                   6.0   \n",
      "126                   6.2                  2.8                   4.8   \n",
      "127                   6.1                  3.0                   4.9   \n",
      "128                   6.4                  2.8                   5.6   \n",
      "129                   7.2                  3.0                   5.8   \n",
      "130                   7.4                  2.8                   6.1   \n",
      "131                   7.9                  3.8                   6.4   \n",
      "132                   6.4                  2.8                   5.6   \n",
      "133                   6.3                  2.8                   5.1   \n",
      "134                   6.1                  2.6                   5.6   \n",
      "135                   7.7                  3.0                   6.1   \n",
      "136                   6.3                  3.4                   5.6   \n",
      "137                   6.4                  3.1                   5.5   \n",
      "138                   6.0                  3.0                   4.8   \n",
      "139                   6.9                  3.1                   5.4   \n",
      "140                   6.7                  3.1                   5.6   \n",
      "141                   6.9                  3.1                   5.1   \n",
      "142                   5.8                  2.7                   5.1   \n",
      "143                   6.8                  3.2                   5.9   \n",
      "144                   6.7                  3.3                   5.7   \n",
      "145                   6.7                  3.0                   5.2   \n",
      "146                   6.3                  2.5                   5.0   \n",
      "147                   6.5                  3.0                   5.2   \n",
      "148                   6.2                  3.4                   5.4   \n",
      "149                   5.9                  3.0                   5.1   \n",
      "\n",
      "     Petal width (in cm)           Class  \n",
      "0                    0.2     Iris-setosa  \n",
      "1                    0.2     Iris-setosa  \n",
      "2                    0.2     Iris-setosa  \n",
      "3                    0.2     Iris-setosa  \n",
      "4                    0.2     Iris-setosa  \n",
      "5                    0.4     Iris-setosa  \n",
      "6                    0.3     Iris-setosa  \n",
      "7                    0.2     Iris-setosa  \n",
      "8                    0.2     Iris-setosa  \n",
      "9                    0.1     Iris-setosa  \n",
      "10                   0.2     Iris-setosa  \n",
      "11                   0.2     Iris-setosa  \n",
      "12                   0.1     Iris-setosa  \n",
      "13                   0.1     Iris-setosa  \n",
      "14                   0.2     Iris-setosa  \n",
      "15                   0.4     Iris-setosa  \n",
      "16                   0.4     Iris-setosa  \n",
      "17                   0.3     Iris-setosa  \n",
      "18                   0.3     Iris-setosa  \n",
      "19                   0.3     Iris-setosa  \n",
      "20                   0.2     Iris-setosa  \n",
      "21                   0.4     Iris-setosa  \n",
      "22                   0.2     Iris-setosa  \n",
      "23                   0.5     Iris-setosa  \n",
      "24                   0.2     Iris-setosa  \n",
      "25                   0.2     Iris-setosa  \n",
      "26                   0.4     Iris-setosa  \n",
      "27                   0.2     Iris-setosa  \n",
      "28                   0.2     Iris-setosa  \n",
      "29                   0.2     Iris-setosa  \n",
      "..                   ...             ...  \n",
      "120                  2.3  Iris-virginica  \n",
      "121                  2.0  Iris-virginica  \n",
      "122                  2.0  Iris-virginica  \n",
      "123                  1.8  Iris-virginica  \n",
      "124                  2.1  Iris-virginica  \n",
      "125                  1.8  Iris-virginica  \n",
      "126                  1.8  Iris-virginica  \n",
      "127                  1.8  Iris-virginica  \n",
      "128                  2.1  Iris-virginica  \n",
      "129                  1.6  Iris-virginica  \n",
      "130                  1.9  Iris-virginica  \n",
      "131                  2.0  Iris-virginica  \n",
      "132                  2.2  Iris-virginica  \n",
      "133                  1.5  Iris-virginica  \n",
      "134                  1.4  Iris-virginica  \n",
      "135                  2.3  Iris-virginica  \n",
      "136                  2.4  Iris-virginica  \n",
      "137                  1.8  Iris-virginica  \n",
      "138                  1.8  Iris-virginica  \n",
      "139                  2.1  Iris-virginica  \n",
      "140                  2.4  Iris-virginica  \n",
      "141                  2.3  Iris-virginica  \n",
      "142                  1.9  Iris-virginica  \n",
      "143                  2.3  Iris-virginica  \n",
      "144                  2.5  Iris-virginica  \n",
      "145                  2.3  Iris-virginica  \n",
      "146                  1.9  Iris-virginica  \n",
      "147                  2.0  Iris-virginica  \n",
      "148                  2.3  Iris-virginica  \n",
      "149                  1.8  Iris-virginica  \n",
      "\n",
      "[150 rows x 5 columns]\n"
     ]
    }
   ],
   "source": [
    "from sklearn import datasets\n",
    "import pandas as pd\n",
    "iris=pd.read_csv(\"iris.csv\")\n",
    "print(iris)"
   ]
  },
  {
   "cell_type": "markdown",
   "metadata": {},
   "source": [
    "### Find out the datatypes of each and every column"
   ]
  },
  {
   "cell_type": "code",
   "execution_count": 41,
   "metadata": {},
   "outputs": [
    {
     "data": {
      "text/plain": [
       "Sepal Length (in cm)    float64\n",
       "Sepal Width in (cm)     float64\n",
       "Petal length (in cm)    float64\n",
       "Petal width (in cm)     float64\n",
       "Class                    object\n",
       "dtype: object"
      ]
     },
     "execution_count": 41,
     "metadata": {},
     "output_type": "execute_result"
    }
   ],
   "source": [
    "iris.dtypes"
   ]
  },
  {
   "cell_type": "markdown",
   "metadata": {},
   "source": [
    "### Print top 10 & bottom 10 samples from the dataframe"
   ]
  },
  {
   "cell_type": "code",
   "execution_count": 43,
   "metadata": {},
   "outputs": [
    {
     "data": {
      "text/html": [
       "<div>\n",
       "<style>\n",
       "    .dataframe thead tr:only-child th {\n",
       "        text-align: right;\n",
       "    }\n",
       "\n",
       "    .dataframe thead th {\n",
       "        text-align: left;\n",
       "    }\n",
       "\n",
       "    .dataframe tbody tr th {\n",
       "        vertical-align: top;\n",
       "    }\n",
       "</style>\n",
       "<table border=\"1\" class=\"dataframe\">\n",
       "  <thead>\n",
       "    <tr style=\"text-align: right;\">\n",
       "      <th></th>\n",
       "      <th>Sepal Length (in cm)</th>\n",
       "      <th>Sepal Width in (cm)</th>\n",
       "      <th>Petal length (in cm)</th>\n",
       "      <th>Petal width (in cm)</th>\n",
       "      <th>Class</th>\n",
       "    </tr>\n",
       "  </thead>\n",
       "  <tbody>\n",
       "    <tr>\n",
       "      <th>140</th>\n",
       "      <td>6.7</td>\n",
       "      <td>3.1</td>\n",
       "      <td>5.6</td>\n",
       "      <td>2.4</td>\n",
       "      <td>Iris-virginica</td>\n",
       "    </tr>\n",
       "    <tr>\n",
       "      <th>141</th>\n",
       "      <td>6.9</td>\n",
       "      <td>3.1</td>\n",
       "      <td>5.1</td>\n",
       "      <td>2.3</td>\n",
       "      <td>Iris-virginica</td>\n",
       "    </tr>\n",
       "    <tr>\n",
       "      <th>142</th>\n",
       "      <td>5.8</td>\n",
       "      <td>2.7</td>\n",
       "      <td>5.1</td>\n",
       "      <td>1.9</td>\n",
       "      <td>Iris-virginica</td>\n",
       "    </tr>\n",
       "    <tr>\n",
       "      <th>143</th>\n",
       "      <td>6.8</td>\n",
       "      <td>3.2</td>\n",
       "      <td>5.9</td>\n",
       "      <td>2.3</td>\n",
       "      <td>Iris-virginica</td>\n",
       "    </tr>\n",
       "    <tr>\n",
       "      <th>144</th>\n",
       "      <td>6.7</td>\n",
       "      <td>3.3</td>\n",
       "      <td>5.7</td>\n",
       "      <td>2.5</td>\n",
       "      <td>Iris-virginica</td>\n",
       "    </tr>\n",
       "    <tr>\n",
       "      <th>145</th>\n",
       "      <td>6.7</td>\n",
       "      <td>3.0</td>\n",
       "      <td>5.2</td>\n",
       "      <td>2.3</td>\n",
       "      <td>Iris-virginica</td>\n",
       "    </tr>\n",
       "    <tr>\n",
       "      <th>146</th>\n",
       "      <td>6.3</td>\n",
       "      <td>2.5</td>\n",
       "      <td>5.0</td>\n",
       "      <td>1.9</td>\n",
       "      <td>Iris-virginica</td>\n",
       "    </tr>\n",
       "    <tr>\n",
       "      <th>147</th>\n",
       "      <td>6.5</td>\n",
       "      <td>3.0</td>\n",
       "      <td>5.2</td>\n",
       "      <td>2.0</td>\n",
       "      <td>Iris-virginica</td>\n",
       "    </tr>\n",
       "    <tr>\n",
       "      <th>148</th>\n",
       "      <td>6.2</td>\n",
       "      <td>3.4</td>\n",
       "      <td>5.4</td>\n",
       "      <td>2.3</td>\n",
       "      <td>Iris-virginica</td>\n",
       "    </tr>\n",
       "    <tr>\n",
       "      <th>149</th>\n",
       "      <td>5.9</td>\n",
       "      <td>3.0</td>\n",
       "      <td>5.1</td>\n",
       "      <td>1.8</td>\n",
       "      <td>Iris-virginica</td>\n",
       "    </tr>\n",
       "  </tbody>\n",
       "</table>\n",
       "</div>"
      ],
      "text/plain": [
       "     Sepal Length (in cm)  Sepal Width in (cm)  Petal length (in cm)  \\\n",
       "140                   6.7                  3.1                   5.6   \n",
       "141                   6.9                  3.1                   5.1   \n",
       "142                   5.8                  2.7                   5.1   \n",
       "143                   6.8                  3.2                   5.9   \n",
       "144                   6.7                  3.3                   5.7   \n",
       "145                   6.7                  3.0                   5.2   \n",
       "146                   6.3                  2.5                   5.0   \n",
       "147                   6.5                  3.0                   5.2   \n",
       "148                   6.2                  3.4                   5.4   \n",
       "149                   5.9                  3.0                   5.1   \n",
       "\n",
       "     Petal width (in cm)           Class  \n",
       "140                  2.4  Iris-virginica  \n",
       "141                  2.3  Iris-virginica  \n",
       "142                  1.9  Iris-virginica  \n",
       "143                  2.3  Iris-virginica  \n",
       "144                  2.5  Iris-virginica  \n",
       "145                  2.3  Iris-virginica  \n",
       "146                  1.9  Iris-virginica  \n",
       "147                  2.0  Iris-virginica  \n",
       "148                  2.3  Iris-virginica  \n",
       "149                  1.8  Iris-virginica  "
      ]
     },
     "execution_count": 43,
     "metadata": {},
     "output_type": "execute_result"
    }
   ],
   "source": [
    "iris.head(n=10)\n",
    "iris.tail(10)"
   ]
  },
  {
   "cell_type": "markdown",
   "metadata": {},
   "source": [
    "### Find the shape of the dataset"
   ]
  },
  {
   "cell_type": "code",
   "execution_count": 44,
   "metadata": {},
   "outputs": [
    {
     "data": {
      "text/plain": [
       "(150, 5)"
      ]
     },
     "execution_count": 44,
     "metadata": {},
     "output_type": "execute_result"
    }
   ],
   "source": [
    "iris.shape"
   ]
  },
  {
   "cell_type": "markdown",
   "metadata": {},
   "source": [
    "### Set the index of the dataframe to be the first column"
   ]
  },
  {
   "cell_type": "code",
   "execution_count": 45,
   "metadata": {},
   "outputs": [
    {
     "data": {
      "text/plain": [
       "0      3.5\n",
       "1      3.0\n",
       "2      3.2\n",
       "3      3.1\n",
       "4      3.6\n",
       "5      3.9\n",
       "6      3.4\n",
       "7      3.4\n",
       "8      2.9\n",
       "9      3.1\n",
       "10     3.7\n",
       "11     3.4\n",
       "12     3.0\n",
       "13     3.0\n",
       "14     4.0\n",
       "15     4.4\n",
       "16     3.9\n",
       "17     3.5\n",
       "18     3.8\n",
       "19     3.8\n",
       "20     3.4\n",
       "21     3.7\n",
       "22     3.6\n",
       "23     3.3\n",
       "24     3.4\n",
       "25     3.0\n",
       "26     3.4\n",
       "27     3.5\n",
       "28     3.4\n",
       "29     3.2\n",
       "      ... \n",
       "120    3.2\n",
       "121    2.8\n",
       "122    2.8\n",
       "123    2.7\n",
       "124    3.3\n",
       "125    3.2\n",
       "126    2.8\n",
       "127    3.0\n",
       "128    2.8\n",
       "129    3.0\n",
       "130    2.8\n",
       "131    3.8\n",
       "132    2.8\n",
       "133    2.8\n",
       "134    2.6\n",
       "135    3.0\n",
       "136    3.4\n",
       "137    3.1\n",
       "138    3.0\n",
       "139    3.1\n",
       "140    3.1\n",
       "141    3.1\n",
       "142    2.7\n",
       "143    3.2\n",
       "144    3.3\n",
       "145    3.0\n",
       "146    2.5\n",
       "147    3.0\n",
       "148    3.4\n",
       "149    3.0\n",
       "Name: Sepal Width in (cm), Length: 150, dtype: float64"
      ]
     },
     "execution_count": 45,
     "metadata": {},
     "output_type": "execute_result"
    }
   ],
   "source": [
    "iris.iloc[:,1]"
   ]
  },
  {
   "cell_type": "markdown",
   "metadata": {},
   "source": [
    "### Use iloc function to print all the rows of the 3rd column "
   ]
  },
  {
   "cell_type": "code",
   "execution_count": 46,
   "metadata": {},
   "outputs": [
    {
     "name": "stdout",
     "output_type": "stream",
     "text": [
      "0      1.4\n",
      "1      1.4\n",
      "2      1.3\n",
      "3      1.5\n",
      "4      1.4\n",
      "5      1.7\n",
      "6      1.4\n",
      "7      1.5\n",
      "8      1.4\n",
      "9      1.5\n",
      "10     1.5\n",
      "11     1.6\n",
      "12     1.4\n",
      "13     1.1\n",
      "14     1.2\n",
      "15     1.5\n",
      "16     1.3\n",
      "17     1.4\n",
      "18     1.7\n",
      "19     1.5\n",
      "20     1.7\n",
      "21     1.5\n",
      "22     1.0\n",
      "23     1.7\n",
      "24     1.9\n",
      "25     1.6\n",
      "26     1.6\n",
      "27     1.5\n",
      "28     1.4\n",
      "29     1.6\n",
      "      ... \n",
      "120    5.7\n",
      "121    4.9\n",
      "122    6.7\n",
      "123    4.9\n",
      "124    5.7\n",
      "125    6.0\n",
      "126    4.8\n",
      "127    4.9\n",
      "128    5.6\n",
      "129    5.8\n",
      "130    6.1\n",
      "131    6.4\n",
      "132    5.6\n",
      "133    5.1\n",
      "134    5.6\n",
      "135    6.1\n",
      "136    5.6\n",
      "137    5.5\n",
      "138    4.8\n",
      "139    5.4\n",
      "140    5.6\n",
      "141    5.1\n",
      "142    5.1\n",
      "143    5.9\n",
      "144    5.7\n",
      "145    5.2\n",
      "146    5.0\n",
      "147    5.2\n",
      "148    5.4\n",
      "149    5.1\n",
      "Name: Petal length (in cm), Length: 150, dtype: float64\n"
     ]
    }
   ],
   "source": [
    "print(iris.iloc[:,2])"
   ]
  },
  {
   "cell_type": "markdown",
   "metadata": {},
   "source": [
    "### Slicing\n",
    "Print only the Sepal width and Sepal Length for first 10 rows "
   ]
  },
  {
   "cell_type": "code",
   "execution_count": 47,
   "metadata": {},
   "outputs": [
    {
     "name": "stdout",
     "output_type": "stream",
     "text": [
      "   Sepal Length (in cm)  Sepal Width in (cm)\n",
      "0                   5.1                  3.5\n",
      "1                   4.9                  3.0\n",
      "2                   4.7                  3.2\n",
      "3                   4.6                  3.1\n",
      "4                   5.0                  3.6\n",
      "5                   5.4                  3.9\n",
      "6                   4.6                  3.4\n",
      "7                   5.0                  3.4\n",
      "8                   4.4                  2.9\n"
     ]
    }
   ],
   "source": [
    "print(iris.iloc[0:9,0:2])"
   ]
  },
  {
   "cell_type": "markdown",
   "metadata": {},
   "source": [
    "### Using Logical statements for indexing\n",
    "Print all the columns of row which has class name \"Iris-setosa\""
   ]
  },
  {
   "cell_type": "code",
   "execution_count": 50,
   "metadata": {},
   "outputs": [
    {
     "name": "stdout",
     "output_type": "stream",
     "text": [
      "    Sepal Length (in cm)  Sepal Width in (cm)  Petal length (in cm)  \\\n",
      "0                    5.1                  3.5                   1.4   \n",
      "1                    4.9                  3.0                   1.4   \n",
      "2                    4.7                  3.2                   1.3   \n",
      "3                    4.6                  3.1                   1.5   \n",
      "4                    5.0                  3.6                   1.4   \n",
      "5                    5.4                  3.9                   1.7   \n",
      "6                    4.6                  3.4                   1.4   \n",
      "7                    5.0                  3.4                   1.5   \n",
      "8                    4.4                  2.9                   1.4   \n",
      "9                    4.9                  3.1                   1.5   \n",
      "10                   5.4                  3.7                   1.5   \n",
      "11                   4.8                  3.4                   1.6   \n",
      "12                   4.8                  3.0                   1.4   \n",
      "13                   4.3                  3.0                   1.1   \n",
      "14                   5.8                  4.0                   1.2   \n",
      "15                   5.7                  4.4                   1.5   \n",
      "16                   5.4                  3.9                   1.3   \n",
      "17                   5.1                  3.5                   1.4   \n",
      "18                   5.7                  3.8                   1.7   \n",
      "19                   5.1                  3.8                   1.5   \n",
      "20                   5.4                  3.4                   1.7   \n",
      "21                   5.1                  3.7                   1.5   \n",
      "22                   4.6                  3.6                   1.0   \n",
      "23                   5.1                  3.3                   1.7   \n",
      "24                   4.8                  3.4                   1.9   \n",
      "25                   5.0                  3.0                   1.6   \n",
      "26                   5.0                  3.4                   1.6   \n",
      "27                   5.2                  3.5                   1.5   \n",
      "28                   5.2                  3.4                   1.4   \n",
      "29                   4.7                  3.2                   1.6   \n",
      "30                   4.8                  3.1                   1.6   \n",
      "31                   5.4                  3.4                   1.5   \n",
      "32                   5.2                  4.1                   1.5   \n",
      "33                   5.5                  4.2                   1.4   \n",
      "34                   4.9                  3.1                   1.5   \n",
      "35                   5.0                  3.2                   1.2   \n",
      "36                   5.5                  3.5                   1.3   \n",
      "37                   4.9                  3.1                   1.5   \n",
      "38                   4.4                  3.0                   1.3   \n",
      "39                   5.1                  3.4                   1.5   \n",
      "40                   5.0                  3.5                   1.3   \n",
      "41                   4.5                  2.3                   1.3   \n",
      "42                   4.4                  3.2                   1.3   \n",
      "43                   5.0                  3.5                   1.6   \n",
      "44                   5.1                  3.8                   1.9   \n",
      "45                   4.8                  3.0                   1.4   \n",
      "46                   5.1                  3.8                   1.6   \n",
      "47                   4.6                  3.2                   1.4   \n",
      "48                   5.3                  3.7                   1.5   \n",
      "49                   5.0                  3.3                   1.4   \n",
      "\n",
      "    Petal width (in cm)        Class  \n",
      "0                   0.2  Iris-setosa  \n",
      "1                   0.2  Iris-setosa  \n",
      "2                   0.2  Iris-setosa  \n",
      "3                   0.2  Iris-setosa  \n",
      "4                   0.2  Iris-setosa  \n",
      "5                   0.4  Iris-setosa  \n",
      "6                   0.3  Iris-setosa  \n",
      "7                   0.2  Iris-setosa  \n",
      "8                   0.2  Iris-setosa  \n",
      "9                   0.1  Iris-setosa  \n",
      "10                  0.2  Iris-setosa  \n",
      "11                  0.2  Iris-setosa  \n",
      "12                  0.1  Iris-setosa  \n",
      "13                  0.1  Iris-setosa  \n",
      "14                  0.2  Iris-setosa  \n",
      "15                  0.4  Iris-setosa  \n",
      "16                  0.4  Iris-setosa  \n",
      "17                  0.3  Iris-setosa  \n",
      "18                  0.3  Iris-setosa  \n",
      "19                  0.3  Iris-setosa  \n",
      "20                  0.2  Iris-setosa  \n",
      "21                  0.4  Iris-setosa  \n",
      "22                  0.2  Iris-setosa  \n",
      "23                  0.5  Iris-setosa  \n",
      "24                  0.2  Iris-setosa  \n",
      "25                  0.2  Iris-setosa  \n",
      "26                  0.4  Iris-setosa  \n",
      "27                  0.2  Iris-setosa  \n",
      "28                  0.2  Iris-setosa  \n",
      "29                  0.2  Iris-setosa  \n",
      "30                  0.2  Iris-setosa  \n",
      "31                  0.4  Iris-setosa  \n",
      "32                  0.1  Iris-setosa  \n",
      "33                  0.2  Iris-setosa  \n",
      "34                  0.1  Iris-setosa  \n",
      "35                  0.2  Iris-setosa  \n",
      "36                  0.2  Iris-setosa  \n",
      "37                  0.1  Iris-setosa  \n",
      "38                  0.2  Iris-setosa  \n",
      "39                  0.2  Iris-setosa  \n",
      "40                  0.3  Iris-setosa  \n",
      "41                  0.3  Iris-setosa  \n",
      "42                  0.2  Iris-setosa  \n",
      "43                  0.6  Iris-setosa  \n",
      "44                  0.4  Iris-setosa  \n",
      "45                  0.3  Iris-setosa  \n",
      "46                  0.2  Iris-setosa  \n",
      "47                  0.2  Iris-setosa  \n",
      "48                  0.2  Iris-setosa  \n",
      "49                  0.2  Iris-setosa  \n"
     ]
    }
   ],
   "source": [
    "print(iris[iris['Class']=='Iris-setosa'])"
   ]
  },
  {
   "cell_type": "markdown",
   "metadata": {},
   "source": [
    "### Multiply Sepal Length and width and store it under the column name \"SepalExtra\" in the same Iris dataframe"
   ]
  },
  {
   "cell_type": "code",
   "execution_count": 52,
   "metadata": {},
   "outputs": [
    {
     "name": "stdout",
     "output_type": "stream",
     "text": [
      "     Sepal Length (in cm)  Sepal Width in (cm)  Petal length (in cm)  \\\n",
      "0                     5.1                  3.5                   1.4   \n",
      "1                     4.9                  3.0                   1.4   \n",
      "2                     4.7                  3.2                   1.3   \n",
      "3                     4.6                  3.1                   1.5   \n",
      "4                     5.0                  3.6                   1.4   \n",
      "5                     5.4                  3.9                   1.7   \n",
      "6                     4.6                  3.4                   1.4   \n",
      "7                     5.0                  3.4                   1.5   \n",
      "8                     4.4                  2.9                   1.4   \n",
      "9                     4.9                  3.1                   1.5   \n",
      "10                    5.4                  3.7                   1.5   \n",
      "11                    4.8                  3.4                   1.6   \n",
      "12                    4.8                  3.0                   1.4   \n",
      "13                    4.3                  3.0                   1.1   \n",
      "14                    5.8                  4.0                   1.2   \n",
      "15                    5.7                  4.4                   1.5   \n",
      "16                    5.4                  3.9                   1.3   \n",
      "17                    5.1                  3.5                   1.4   \n",
      "18                    5.7                  3.8                   1.7   \n",
      "19                    5.1                  3.8                   1.5   \n",
      "20                    5.4                  3.4                   1.7   \n",
      "21                    5.1                  3.7                   1.5   \n",
      "22                    4.6                  3.6                   1.0   \n",
      "23                    5.1                  3.3                   1.7   \n",
      "24                    4.8                  3.4                   1.9   \n",
      "25                    5.0                  3.0                   1.6   \n",
      "26                    5.0                  3.4                   1.6   \n",
      "27                    5.2                  3.5                   1.5   \n",
      "28                    5.2                  3.4                   1.4   \n",
      "29                    4.7                  3.2                   1.6   \n",
      "..                    ...                  ...                   ...   \n",
      "120                   6.9                  3.2                   5.7   \n",
      "121                   5.6                  2.8                   4.9   \n",
      "122                   7.7                  2.8                   6.7   \n",
      "123                   6.3                  2.7                   4.9   \n",
      "124                   6.7                  3.3                   5.7   \n",
      "125                   7.2                  3.2                   6.0   \n",
      "126                   6.2                  2.8                   4.8   \n",
      "127                   6.1                  3.0                   4.9   \n",
      "128                   6.4                  2.8                   5.6   \n",
      "129                   7.2                  3.0                   5.8   \n",
      "130                   7.4                  2.8                   6.1   \n",
      "131                   7.9                  3.8                   6.4   \n",
      "132                   6.4                  2.8                   5.6   \n",
      "133                   6.3                  2.8                   5.1   \n",
      "134                   6.1                  2.6                   5.6   \n",
      "135                   7.7                  3.0                   6.1   \n",
      "136                   6.3                  3.4                   5.6   \n",
      "137                   6.4                  3.1                   5.5   \n",
      "138                   6.0                  3.0                   4.8   \n",
      "139                   6.9                  3.1                   5.4   \n",
      "140                   6.7                  3.1                   5.6   \n",
      "141                   6.9                  3.1                   5.1   \n",
      "142                   5.8                  2.7                   5.1   \n",
      "143                   6.8                  3.2                   5.9   \n",
      "144                   6.7                  3.3                   5.7   \n",
      "145                   6.7                  3.0                   5.2   \n",
      "146                   6.3                  2.5                   5.0   \n",
      "147                   6.5                  3.0                   5.2   \n",
      "148                   6.2                  3.4                   5.4   \n",
      "149                   5.9                  3.0                   5.1   \n",
      "\n",
      "     Petal width (in cm)           Class  SepalExtra  \n",
      "0                    0.2     Iris-setosa       17.85  \n",
      "1                    0.2     Iris-setosa       14.70  \n",
      "2                    0.2     Iris-setosa       15.04  \n",
      "3                    0.2     Iris-setosa       14.26  \n",
      "4                    0.2     Iris-setosa       18.00  \n",
      "5                    0.4     Iris-setosa       21.06  \n",
      "6                    0.3     Iris-setosa       15.64  \n",
      "7                    0.2     Iris-setosa       17.00  \n",
      "8                    0.2     Iris-setosa       12.76  \n",
      "9                    0.1     Iris-setosa       15.19  \n",
      "10                   0.2     Iris-setosa       19.98  \n",
      "11                   0.2     Iris-setosa       16.32  \n",
      "12                   0.1     Iris-setosa       14.40  \n",
      "13                   0.1     Iris-setosa       12.90  \n",
      "14                   0.2     Iris-setosa       23.20  \n",
      "15                   0.4     Iris-setosa       25.08  \n",
      "16                   0.4     Iris-setosa       21.06  \n",
      "17                   0.3     Iris-setosa       17.85  \n",
      "18                   0.3     Iris-setosa       21.66  \n",
      "19                   0.3     Iris-setosa       19.38  \n",
      "20                   0.2     Iris-setosa       18.36  \n",
      "21                   0.4     Iris-setosa       18.87  \n",
      "22                   0.2     Iris-setosa       16.56  \n",
      "23                   0.5     Iris-setosa       16.83  \n",
      "24                   0.2     Iris-setosa       16.32  \n",
      "25                   0.2     Iris-setosa       15.00  \n",
      "26                   0.4     Iris-setosa       17.00  \n",
      "27                   0.2     Iris-setosa       18.20  \n",
      "28                   0.2     Iris-setosa       17.68  \n",
      "29                   0.2     Iris-setosa       15.04  \n",
      "..                   ...             ...         ...  \n",
      "120                  2.3  Iris-virginica       22.08  \n",
      "121                  2.0  Iris-virginica       15.68  \n",
      "122                  2.0  Iris-virginica       21.56  \n",
      "123                  1.8  Iris-virginica       17.01  \n",
      "124                  2.1  Iris-virginica       22.11  \n",
      "125                  1.8  Iris-virginica       23.04  \n",
      "126                  1.8  Iris-virginica       17.36  \n",
      "127                  1.8  Iris-virginica       18.30  \n",
      "128                  2.1  Iris-virginica       17.92  \n",
      "129                  1.6  Iris-virginica       21.60  \n",
      "130                  1.9  Iris-virginica       20.72  \n",
      "131                  2.0  Iris-virginica       30.02  \n",
      "132                  2.2  Iris-virginica       17.92  \n",
      "133                  1.5  Iris-virginica       17.64  \n",
      "134                  1.4  Iris-virginica       15.86  \n",
      "135                  2.3  Iris-virginica       23.10  \n",
      "136                  2.4  Iris-virginica       21.42  \n",
      "137                  1.8  Iris-virginica       19.84  \n",
      "138                  1.8  Iris-virginica       18.00  \n",
      "139                  2.1  Iris-virginica       21.39  \n",
      "140                  2.4  Iris-virginica       20.77  \n",
      "141                  2.3  Iris-virginica       21.39  \n",
      "142                  1.9  Iris-virginica       15.66  \n",
      "143                  2.3  Iris-virginica       21.76  \n",
      "144                  2.5  Iris-virginica       22.11  \n",
      "145                  2.3  Iris-virginica       20.10  \n",
      "146                  1.9  Iris-virginica       15.75  \n",
      "147                  2.0  Iris-virginica       19.50  \n",
      "148                  2.3  Iris-virginica       21.08  \n",
      "149                  1.8  Iris-virginica       17.70  \n",
      "\n",
      "[150 rows x 6 columns]\n"
     ]
    }
   ],
   "source": [
    "iris['SepalExtra']=iris[\"Sepal Length (in cm)\"]*iris[\"Sepal Width in (cm)\"]\n",
    "print(iris)"
   ]
  },
  {
   "cell_type": "markdown",
   "metadata": {},
   "source": [
    "### Find out the mean and variance for each column but for class column "
   ]
  },
  {
   "cell_type": "code",
   "execution_count": 64,
   "metadata": {},
   "outputs": [
    {
     "name": "stdout",
     "output_type": "stream",
     "text": [
      "5.843333333333335\n",
      "0.6856935123042505\n",
      "3.0540000000000007\n",
      "0.18800402684563763\n",
      "3.7586666666666693\n",
      "3.1131794183445156\n",
      "1.1986666666666672\n",
      "0.5824143176733784\n"
     ]
    }
   ],
   "source": [
    "print(iris[\"Sepal Length (in cm)\"].mean())\n",
    "print(iris[\"Sepal Length (in cm)\"].var())\n",
    "print(iris[\"Sepal Width in (cm)\"].mean())\n",
    "print(iris[\"Sepal Width in (cm)\"].var())\n",
    "print(iris[\"Petal length (in cm)\"].mean())\n",
    "print(iris[\"Petal length (in cm)\"].var())\n",
    "print(iris[\"Petal width (in cm)\"].mean())\n",
    "print(iris[\"Petal width (in cm)\"].var())"
   ]
  },
  {
   "cell_type": "markdown",
   "metadata": {},
   "source": [
    "### Write a function that accepts two numbers as input and prints them - Pass the Sepal length and sepal width of 5th row and print the output"
   ]
  },
  {
   "cell_type": "code",
   "execution_count": 77,
   "metadata": {},
   "outputs": [
    {
     "name": "stdout",
     "output_type": "stream",
     "text": [
      "18.0\n"
     ]
    }
   ],
   "source": [
    "#multiply function \n",
    "def mul(a,b):\n",
    "    print(a*b)\n",
    "    \n",
    "mul(iris.iloc[4,0],iris.iloc[4,1])\n",
    "\n"
   ]
  },
  {
   "cell_type": "markdown",
   "metadata": {},
   "source": [
    "### Find the range of all the columns in the dataset\n",
    "\n",
    "*Range = Max value - Min value (in the column)*"
   ]
  },
  {
   "cell_type": "code",
   "execution_count": 74,
   "metadata": {},
   "outputs": [
    {
     "name": "stdout",
     "output_type": "stream",
     "text": [
      "3.6\n",
      "2.4\n",
      "5.9\n",
      "2.4\n"
     ]
    }
   ],
   "source": [
    "range_SepalLength=(iris[\"Sepal Length (in cm)\"].max() - iris[\"Sepal Length (in cm)\"].min())\n",
    "range_SepalWidth=(iris[\"Sepal Width in (cm)\"].max() - iris[\"Sepal Width in (cm)\"].min())\n",
    "range_Petallength=(iris[\"Petal length (in cm)\"].max() - iris[\"Petal length (in cm)\"].min())\n",
    "range_PetalWidth=(iris[\"Sepal Width in (cm)\"].max() - iris[\"Sepal Width in (cm)\"].min())\n",
    "\n",
    "print(range_SepalLength)\n",
    "print(range_SepalWidth)\n",
    "print(range_Petallength)\n",
    "print(range_PetalWidth)\n"
   ]
  },
  {
   "cell_type": "markdown",
   "metadata": {},
   "source": [
    "### Sort the entire dataset according to the column Petal width"
   ]
  },
  {
   "cell_type": "code",
   "execution_count": 68,
   "metadata": {},
   "outputs": [
    {
     "name": "stdout",
     "output_type": "stream",
     "text": [
      "     Sepal Length (in cm)  Sepal Width in (cm)  Petal length (in cm)  \\\n",
      "32                    5.2                  4.1                   1.5   \n",
      "13                    4.3                  3.0                   1.1   \n",
      "37                    4.9                  3.1                   1.5   \n",
      "9                     4.9                  3.1                   1.5   \n",
      "12                    4.8                  3.0                   1.4   \n",
      "34                    4.9                  3.1                   1.5   \n",
      "0                     5.1                  3.5                   1.4   \n",
      "27                    5.2                  3.5                   1.5   \n",
      "28                    5.2                  3.4                   1.4   \n",
      "29                    4.7                  3.2                   1.6   \n",
      "30                    4.8                  3.1                   1.6   \n",
      "33                    5.5                  4.2                   1.4   \n",
      "36                    5.5                  3.5                   1.3   \n",
      "38                    4.4                  3.0                   1.3   \n",
      "39                    5.1                  3.4                   1.5   \n",
      "42                    4.4                  3.2                   1.3   \n",
      "46                    5.1                  3.8                   1.6   \n",
      "47                    4.6                  3.2                   1.4   \n",
      "48                    5.3                  3.7                   1.5   \n",
      "49                    5.0                  3.3                   1.4   \n",
      "25                    5.0                  3.0                   1.6   \n",
      "24                    4.8                  3.4                   1.9   \n",
      "35                    5.0                  3.2                   1.2   \n",
      "3                     4.6                  3.1                   1.5   \n",
      "2                     4.7                  3.2                   1.3   \n",
      "7                     5.0                  3.4                   1.5   \n",
      "8                     4.4                  2.9                   1.4   \n",
      "10                    5.4                  3.7                   1.5   \n",
      "4                     5.0                  3.6                   1.4   \n",
      "11                    4.8                  3.4                   1.6   \n",
      "..                    ...                  ...                   ...   \n",
      "111                   6.4                  2.7                   5.3   \n",
      "121                   5.6                  2.8                   4.9   \n",
      "122                   7.7                  2.8                   6.7   \n",
      "147                   6.5                  3.0                   5.2   \n",
      "113                   5.7                  2.5                   5.0   \n",
      "131                   7.9                  3.8                   6.4   \n",
      "110                   6.5                  3.2                   5.1   \n",
      "139                   6.9                  3.1                   5.4   \n",
      "102                   7.1                  3.0                   5.9   \n",
      "112                   6.8                  3.0                   5.5   \n",
      "105                   7.6                  3.0                   6.6   \n",
      "124                   6.7                  3.3                   5.7   \n",
      "128                   6.4                  2.8                   5.6   \n",
      "117                   7.7                  3.8                   6.7   \n",
      "132                   6.4                  2.8                   5.6   \n",
      "104                   6.5                  3.0                   5.8   \n",
      "120                   6.9                  3.2                   5.7   \n",
      "115                   6.4                  3.2                   5.3   \n",
      "148                   6.2                  3.4                   5.4   \n",
      "141                   6.9                  3.1                   5.1   \n",
      "143                   6.8                  3.2                   5.9   \n",
      "145                   6.7                  3.0                   5.2   \n",
      "118                   7.7                  2.6                   6.9   \n",
      "135                   7.7                  3.0                   6.1   \n",
      "136                   6.3                  3.4                   5.6   \n",
      "140                   6.7                  3.1                   5.6   \n",
      "114                   5.8                  2.8                   5.1   \n",
      "100                   6.3                  3.3                   6.0   \n",
      "144                   6.7                  3.3                   5.7   \n",
      "109                   7.2                  3.6                   6.1   \n",
      "\n",
      "     Petal width (in cm)           Class  SepalExtra  \n",
      "32                   0.1     Iris-setosa       21.32  \n",
      "13                   0.1     Iris-setosa       12.90  \n",
      "37                   0.1     Iris-setosa       15.19  \n",
      "9                    0.1     Iris-setosa       15.19  \n",
      "12                   0.1     Iris-setosa       14.40  \n",
      "34                   0.1     Iris-setosa       15.19  \n",
      "0                    0.2     Iris-setosa       17.85  \n",
      "27                   0.2     Iris-setosa       18.20  \n",
      "28                   0.2     Iris-setosa       17.68  \n",
      "29                   0.2     Iris-setosa       15.04  \n",
      "30                   0.2     Iris-setosa       14.88  \n",
      "33                   0.2     Iris-setosa       23.10  \n",
      "36                   0.2     Iris-setosa       19.25  \n",
      "38                   0.2     Iris-setosa       13.20  \n",
      "39                   0.2     Iris-setosa       17.34  \n",
      "42                   0.2     Iris-setosa       14.08  \n",
      "46                   0.2     Iris-setosa       19.38  \n",
      "47                   0.2     Iris-setosa       14.72  \n",
      "48                   0.2     Iris-setosa       19.61  \n",
      "49                   0.2     Iris-setosa       16.50  \n",
      "25                   0.2     Iris-setosa       15.00  \n",
      "24                   0.2     Iris-setosa       16.32  \n",
      "35                   0.2     Iris-setosa       16.00  \n",
      "3                    0.2     Iris-setosa       14.26  \n",
      "2                    0.2     Iris-setosa       15.04  \n",
      "7                    0.2     Iris-setosa       17.00  \n",
      "8                    0.2     Iris-setosa       12.76  \n",
      "10                   0.2     Iris-setosa       19.98  \n",
      "4                    0.2     Iris-setosa       18.00  \n",
      "11                   0.2     Iris-setosa       16.32  \n",
      "..                   ...             ...         ...  \n",
      "111                  1.9  Iris-virginica       17.28  \n",
      "121                  2.0  Iris-virginica       15.68  \n",
      "122                  2.0  Iris-virginica       21.56  \n",
      "147                  2.0  Iris-virginica       19.50  \n",
      "113                  2.0  Iris-virginica       14.25  \n",
      "131                  2.0  Iris-virginica       30.02  \n",
      "110                  2.0  Iris-virginica       20.80  \n",
      "139                  2.1  Iris-virginica       21.39  \n",
      "102                  2.1  Iris-virginica       21.30  \n",
      "112                  2.1  Iris-virginica       20.40  \n",
      "105                  2.1  Iris-virginica       22.80  \n",
      "124                  2.1  Iris-virginica       22.11  \n",
      "128                  2.1  Iris-virginica       17.92  \n",
      "117                  2.2  Iris-virginica       29.26  \n",
      "132                  2.2  Iris-virginica       17.92  \n",
      "104                  2.2  Iris-virginica       19.50  \n",
      "120                  2.3  Iris-virginica       22.08  \n",
      "115                  2.3  Iris-virginica       20.48  \n",
      "148                  2.3  Iris-virginica       21.08  \n",
      "141                  2.3  Iris-virginica       21.39  \n",
      "143                  2.3  Iris-virginica       21.76  \n",
      "145                  2.3  Iris-virginica       20.10  \n",
      "118                  2.3  Iris-virginica       20.02  \n",
      "135                  2.3  Iris-virginica       23.10  \n",
      "136                  2.4  Iris-virginica       21.42  \n",
      "140                  2.4  Iris-virginica       20.77  \n",
      "114                  2.4  Iris-virginica       16.24  \n",
      "100                  2.5  Iris-virginica       20.79  \n",
      "144                  2.5  Iris-virginica       22.11  \n",
      "109                  2.5  Iris-virginica       25.92  \n",
      "\n",
      "[150 rows x 6 columns]\n"
     ]
    }
   ],
   "source": [
    "df1=iris.sort_values([\"Petal width (in cm)\"],ascending=True)\n",
    "print(df1)"
   ]
  },
  {
   "cell_type": "markdown",
   "metadata": {},
   "source": [
    "### Remove the new column \"SepalExtra\" from the dataframe"
   ]
  },
  {
   "cell_type": "code",
   "execution_count": 75,
   "metadata": {
    "collapsed": true
   },
   "outputs": [],
   "source": [
    "del iris[\"SepalExtra\"]"
   ]
  },
  {
   "cell_type": "markdown",
   "metadata": {},
   "source": [
    "### Take only the top 10 rows of the dataset with only first 3 columns and store it in a dataframe named \"IrisSubset\" "
   ]
  },
  {
   "cell_type": "code",
   "execution_count": 76,
   "metadata": {},
   "outputs": [
    {
     "name": "stdout",
     "output_type": "stream",
     "text": [
      "   Sepal Length (in cm)  Sepal Width in (cm)\n",
      "0                   5.1                  3.5\n",
      "1                   4.9                  3.0\n",
      "2                   4.7                  3.2\n",
      "3                   4.6                  3.1\n",
      "4                   5.0                  3.6\n",
      "5                   5.4                  3.9\n",
      "6                   4.6                  3.4\n",
      "7                   5.0                  3.4\n",
      "8                   4.4                  2.9\n"
     ]
    }
   ],
   "source": [
    "print(iris.iloc[0:9,0:2])"
   ]
  },
  {
   "cell_type": "markdown",
   "metadata": {},
   "source": [
    "# Part-2"
   ]
  },
  {
   "cell_type": "markdown",
   "metadata": {},
   "source": [
    "## The dataset HR contains information collected from the survey floated by a HR within the company.\n",
    "\n",
    "\n",
    "As a part of this lab, you are expected to answer the below questions"
   ]
  },
  {
   "cell_type": "markdown",
   "metadata": {},
   "source": [
    "### Import numpy and Pandas "
   ]
  },
  {
   "cell_type": "code",
   "execution_count": 10,
   "metadata": {
    "collapsed": true
   },
   "outputs": [],
   "source": [
    "import numpy as np\n",
    "import pandas as pd"
   ]
  },
  {
   "cell_type": "markdown",
   "metadata": {},
   "source": [
    "### Import the dataset (Note: The dataset is in .txt format) - Make sure to use delimiters"
   ]
  },
  {
   "cell_type": "code",
   "execution_count": 29,
   "metadata": {},
   "outputs": [],
   "source": [
    "file = pd.read_csv(r\"HR_external.txt\", sep='\\t')"
   ]
  },
  {
   "cell_type": "markdown",
   "metadata": {},
   "source": [
    "### Print the no of rows and columns in the dataset "
   ]
  },
  {
   "cell_type": "code",
   "execution_count": 12,
   "metadata": {
    "collapsed": true
   },
   "outputs": [],
   "source": [
    "x=file.shape"
   ]
  },
  {
   "cell_type": "code",
   "execution_count": 13,
   "metadata": {},
   "outputs": [
    {
     "name": "stdout",
     "output_type": "stream",
     "text": [
      "Number of rows 1470\n",
      "Number of columns 35\n"
     ]
    }
   ],
   "source": [
    "print(\"Number of rows\",x[0])\n",
    "print(\"Number of columns\",x[1])"
   ]
  },
  {
   "cell_type": "markdown",
   "metadata": {},
   "source": [
    "### Find out the type of each and every column in the dataset "
   ]
  },
  {
   "cell_type": "code",
   "execution_count": 55,
   "metadata": {},
   "outputs": [
    {
     "data": {
      "text/plain": [
       "Individual                  object\n",
       "Attrition                   object\n",
       "Age                          int64\n",
       "BusinessTravel               int64\n",
       "DailyRate                    int64\n",
       "Department                   int64\n",
       "DistanceFromHome             int64\n",
       "Education                    int64\n",
       "EducationField               int64\n",
       "EmployeeCount                int64\n",
       "EmployeeNumber               int64\n",
       "EnvironmentSatisfaction      int64\n",
       "Gender                       int64\n",
       "HourlyRate                   int64\n",
       "JobInvolvement               int64\n",
       "JobLevel                     int64\n",
       "JobRole                      int64\n",
       "JobSatisfaction              int64\n",
       "MaritalStatus                int64\n",
       "MonthlyIncome                int64\n",
       "MonthlyRate                  int64\n",
       "NumCompaniesWorked           int64\n",
       "OverTime                     int64\n",
       "PercentSalaryHike            int64\n",
       "PerformanceRating            int64\n",
       "RelationshipSatisfaction     int64\n",
       "StandardHours                int64\n",
       "StockOptionLevel             int64\n",
       "TotalWorkingYears            int64\n",
       "TrainingTimesLastYear        int64\n",
       "WorkLifeBalance              int64\n",
       "YearsAtCompany               int64\n",
       "YearsInCurrentRole           int64\n",
       "YearsSinceLastPromotion      int64\n",
       "YearsWithCurrManager         int64\n",
       "dtype: object"
      ]
     },
     "execution_count": 55,
     "metadata": {},
     "output_type": "execute_result"
    }
   ],
   "source": [
    "file.dtypes"
   ]
  },
  {
   "cell_type": "code",
   "execution_count": null,
   "metadata": {
    "collapsed": true
   },
   "outputs": [],
   "source": []
  },
  {
   "cell_type": "markdown",
   "metadata": {},
   "source": [
    "### Print out all the rows from 3rd column to 10th columns  "
   ]
  },
  {
   "cell_type": "code",
   "execution_count": 23,
   "metadata": {},
   "outputs": [
    {
     "name": "stdout",
     "output_type": "stream",
     "text": [
      "      Age  BusinessTravel  DailyRate  Department  DistanceFromHome  Education  \\\n",
      "0      41               1       1102           1                 1          2   \n",
      "1      49               2        279           2                 8          1   \n",
      "2      37               1       1373           2                 2          2   \n",
      "3      33               2       1392           2                 3          4   \n",
      "4      27               1        591           2                 2          1   \n",
      "5      32               2       1005           2                 2          2   \n",
      "6      59               1       1324           2                 3          3   \n",
      "7      30               1       1358           2                24          1   \n",
      "8      38               2        216           2                23          3   \n",
      "9      36               1       1299           2                27          3   \n",
      "10     35               1        809           2                16          3   \n",
      "11     29               1        153           2                15          2   \n",
      "12     31               1        670           2                26          1   \n",
      "13     34               1       1346           2                19          2   \n",
      "14     28               1        103           2                24          3   \n",
      "15     29               1       1389           2                21          4   \n",
      "16     32               1        334           2                 5          2   \n",
      "17     22               3       1123           2                16          2   \n",
      "18     53               1       1219           1                 2          4   \n",
      "19     38               1        371           2                 2          3   \n",
      "20     24               3        673           2                11          2   \n",
      "21     36               1       1218           1                 9          4   \n",
      "22     34               1        419           2                 7          4   \n",
      "23     21               1        391           2                15          2   \n",
      "24     34               1        699           2                 6          1   \n",
      "25     53               1       1282           2                 5          3   \n",
      "26     32               2       1125           2                16          1   \n",
      "27     42               1        691           1                 8          4   \n",
      "28     44               1        477           2                 7          4   \n",
      "29     46               1        705           1                 2          4   \n",
      "...   ...             ...        ...         ...               ...        ...   \n",
      "1440   36               2        688           2                 4          2   \n",
      "1441   56               3        667           2                 1          4   \n",
      "1442   29               1       1092           2                 1          4   \n",
      "1443   42               1        300           2                 2          3   \n",
      "1444   56               1        310           2                 7          2   \n",
      "1445   41               1        582           2                28          4   \n",
      "1446   34               1        704           1                28          3   \n",
      "1447   36               3        301           1                15          4   \n",
      "1448   41               1        930           1                 3          3   \n",
      "1449   32               1        529           2                 2          3   \n",
      "1450   35               1       1146           3                26          4   \n",
      "1451   38               1        345           1                10          2   \n",
      "1452   50               2        878           1                 1          4   \n",
      "1453   36               1       1120           1                11          4   \n",
      "1454   45               1        374           1                20          3   \n",
      "1455   40               1       1322           2                 2          4   \n",
      "1456   35               2       1199           2                18          4   \n",
      "1457   40               1       1194           2                 2          4   \n",
      "1458   35               1        287           2                 1          4   \n",
      "1459   29               1       1378           2                13          2   \n",
      "1460   29               1        468           2                28          4   \n",
      "1461   50               1        410           1                28          3   \n",
      "1462   39               1        722           1                24          1   \n",
      "1463   31               3        325           2                 5          3   \n",
      "1464   26               1       1167           1                 5          3   \n",
      "1465   36               2        884           2                23          2   \n",
      "1466   39               1        613           2                 6          1   \n",
      "1467   27               1        155           2                 4          3   \n",
      "1468   49               2       1023           1                 2          3   \n",
      "1469   34               1        628           2                 8          3   \n",
      "\n",
      "      EducationField  EmployeeCount  \n",
      "0                  1              1  \n",
      "1                  1              1  \n",
      "2                  6              1  \n",
      "3                  1              1  \n",
      "4                  2              1  \n",
      "5                  1              1  \n",
      "6                  2              1  \n",
      "7                  1              1  \n",
      "8                  1              1  \n",
      "9                  2              1  \n",
      "10                 2              1  \n",
      "11                 1              1  \n",
      "12                 1              1  \n",
      "13                 2              1  \n",
      "14                 1              1  \n",
      "15                 1              1  \n",
      "16                 1              1  \n",
      "17                 2              1  \n",
      "18                 1              1  \n",
      "19                 1              1  \n",
      "20                 6              1  \n",
      "21                 1              1  \n",
      "22                 1              1  \n",
      "23                 1              1  \n",
      "24                 2              1  \n",
      "25                 6              1  \n",
      "26                 1              1  \n",
      "27                 3              1  \n",
      "28                 2              1  \n",
      "29                 3              1  \n",
      "...              ...            ...  \n",
      "1440               1              1  \n",
      "1441               1              1  \n",
      "1442               2              1  \n",
      "1443               1              1  \n",
      "1444               4              1  \n",
      "1445               1              1  \n",
      "1446               3              1  \n",
      "1447               3              1  \n",
      "1448               1              1  \n",
      "1449               4              1  \n",
      "1450               1              1  \n",
      "1451               1              1  \n",
      "1452               1              1  \n",
      "1453               3              1  \n",
      "1454               1              1  \n",
      "1455               1              1  \n",
      "1456               1              1  \n",
      "1457               2              1  \n",
      "1458               1              1  \n",
      "1459               6              1  \n",
      "1460               2              1  \n",
      "1461               3              1  \n",
      "1462               3              1  \n",
      "1463               2              1  \n",
      "1464               6              1  \n",
      "1465               2              1  \n",
      "1466               2              1  \n",
      "1467               1              1  \n",
      "1468               2              1  \n",
      "1469               2              1  \n",
      "\n",
      "[1470 rows x 8 columns]\n"
     ]
    }
   ],
   "source": [
    "print(file.iloc[:,2:10])"
   ]
  },
  {
   "cell_type": "markdown",
   "metadata": {},
   "source": [
    "### Find out the no of male & female employees in the company\n",
    "\n",
    "*Hint: Use can use a condition to find out the no of 1s and 0s in gender and sum it*"
   ]
  },
  {
   "cell_type": "code",
   "execution_count": 99,
   "metadata": {},
   "outputs": [
    {
     "name": "stdout",
     "output_type": "stream",
     "text": [
      "Number of 1's 882\n",
      "Number of 2's 588\n"
     ]
    }
   ],
   "source": [
    "a=file['Gender'].value_counts()\n",
    "print(\"Number of 1's\",a[1])\n",
    "print(\"Number of 2's\",a[2])\n"
   ]
  },
  {
   "cell_type": "code",
   "execution_count": 124,
   "metadata": {},
   "outputs": [
    {
     "name": "stdout",
     "output_type": "stream",
     "text": [
      "Older  60\n",
      "Younger 18\n",
      "42\n"
     ]
    }
   ],
   "source": [
    "Age=file.loc[:,\"Age\"]\n",
    "#print(Age)\n",
    "print(\"Older \",max(Age))\n",
    "print(\"Younger\",min(Age))\n",
    "Range=max(Age)-min(Age)\n",
    "print(Range)\n"
   ]
  },
  {
   "cell_type": "markdown",
   "metadata": {},
   "source": [
    "### Find out the IQR for the column - Age \n",
    "\n",
    "*Hint: IQR - Interquartile range = 75th percentile - 25th percentile* "
   ]
  },
  {
   "cell_type": "code",
   "execution_count": 154,
   "metadata": {},
   "outputs": [
    {
     "name": "stdout",
     "output_type": "stream",
     "text": [
      "Inter Quantile Range 13.0\n"
     ]
    }
   ],
   "source": [
    "lowerquan=(Age.quantile(0.25))\n",
    "upperquan=Age.quantile(0.75)\n",
    "IQR=upperquan - lowerquan\n",
    "print(\"Inter Quantile Range\",IQR)"
   ]
  },
  {
   "cell_type": "markdown",
   "metadata": {},
   "source": [
    "### Find out the mean, median and variance for the column - DailyRate "
   ]
  },
  {
   "cell_type": "code",
   "execution_count": 167,
   "metadata": {},
   "outputs": [
    {
     "name": "stdout",
     "output_type": "stream",
     "text": [
      "DailyRate-Mean: 802.4857142857143\n",
      "DailyRate-Median: 802.0\n",
      "DailyRate-Variance: 162819.59373723628\n"
     ]
    }
   ],
   "source": [
    "DailyRate=file[\"DailyRate\"]\n",
    "print(\"DailyRate-Mean:\",DailyRate.mean())\n",
    "print(\"DailyRate-Median:\",DailyRate.median())\n",
    "print(\"DailyRate-Variance:\",DailyRate.var())"
   ]
  },
  {
   "cell_type": "markdown",
   "metadata": {},
   "source": [
    "### Plot the attrition column (Since it is a categorical variable, chose the plot accordingly)"
   ]
  },
  {
   "cell_type": "code",
   "execution_count": 18,
   "metadata": {
    "scrolled": true
   },
   "outputs": [
    {
     "data": {
      "image/png": "[encoded data removed]",
      "text/plain": [
       "<Figure size 432x288 with 1 Axes>"
      ]
     },
     "metadata": {},
     "output_type": "display_data"
    }
   ],
   "source": [
    "import seaborn as sns\n",
    "import matplotlib.pyplot as plt\n",
    "ax=sns.countplot(x=\"Attrition\",data=file)\n",
    "plt.show()"
   ]
  },
  {
   "cell_type": "markdown",
   "metadata": {},
   "source": [
    "### Plot Total working years using matplotlib plot function"
   ]
  },
  {
   "cell_type": "raw",
   "metadata": {
    "scrolled": true
   },
   "source": [
    "# import matplotlib.pyplot as plt\n",
    "plt.hist(file[\"TotalWorkingYears\"],data=file)\n",
    "plt.show()"
   ]
  }
 ],
 "metadata": {
  "kernelspec": {
   "display_name": "Python 3",
   "language": "python",
   "name": "python3"
  },
  "language_info": {
   "codemirror_mode": {
    "name": "ipython",
    "version": 3
   },
   "file_extension": ".py",
   "mimetype": "text/x-python",
   "name": "python",
   "nbconvert_exporter": "python",
   "pygments_lexer": "ipython3",
   "version": "3.6.3"
  }
 },
 "nbformat": 4,
 "nbformat_minor": 2
}
